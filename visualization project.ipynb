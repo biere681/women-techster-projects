{
 "cells": [
  {
   "cell_type": "code",
   "execution_count": 1,
   "id": "8833ac43",
   "metadata": {},
   "outputs": [],
   "source": [
    "import pandas as pd\n",
    "import matplotlib.pyplot as plt\n",
    "import seaborn as sns \n",
    "import numpy as np\n",
    "import dateutil.parser\n",
    "from datetime import datetime\n"
   ]
  },
  {
   "cell_type": "code",
   "execution_count": 2,
   "id": "0fb2a3a7",
   "metadata": {},
   "outputs": [
    {
     "data": {
      "text/html": [
       "<div>\n",
       "<style scoped>\n",
       "    .dataframe tbody tr th:only-of-type {\n",
       "        vertical-align: middle;\n",
       "    }\n",
       "\n",
       "    .dataframe tbody tr th {\n",
       "        vertical-align: top;\n",
       "    }\n",
       "\n",
       "    .dataframe thead th {\n",
       "        text-align: right;\n",
       "    }\n",
       "</style>\n",
       "<table border=\"1\" class=\"dataframe\">\n",
       "  <thead>\n",
       "    <tr style=\"text-align: right;\">\n",
       "      <th></th>\n",
       "      <th>id_number</th>\n",
       "      <th>loan_amount</th>\n",
       "      <th>lender_count</th>\n",
       "      <th>status</th>\n",
       "      <th>funded_date</th>\n",
       "      <th>funded_amount</th>\n",
       "      <th>repayment_term</th>\n",
       "      <th>location_country_code</th>\n",
       "      <th>sector</th>\n",
       "      <th>description</th>\n",
       "      <th>use</th>\n",
       "    </tr>\n",
       "  </thead>\n",
       "  <tbody>\n",
       "    <tr>\n",
       "      <th>0</th>\n",
       "      <td>736066</td>\n",
       "      <td>4825</td>\n",
       "      <td>60</td>\n",
       "      <td>funded</td>\n",
       "      <td>2014-08-03T17:51:50Z</td>\n",
       "      <td>4825</td>\n",
       "      <td>8</td>\n",
       "      <td>BJ</td>\n",
       "      <td>Retail</td>\n",
       "      <td>NaN</td>\n",
       "      <td>NaN</td>\n",
       "    </tr>\n",
       "    <tr>\n",
       "      <th>1</th>\n",
       "      <td>743090</td>\n",
       "      <td>975</td>\n",
       "      <td>34</td>\n",
       "      <td>funded</td>\n",
       "      <td>2014-08-18T09:10:54Z</td>\n",
       "      <td>975</td>\n",
       "      <td>12</td>\n",
       "      <td>BJ</td>\n",
       "      <td>Food</td>\n",
       "      <td>NaN</td>\n",
       "      <td>NaN</td>\n",
       "    </tr>\n",
       "    <tr>\n",
       "      <th>2</th>\n",
       "      <td>743120</td>\n",
       "      <td>950</td>\n",
       "      <td>25</td>\n",
       "      <td>funded</td>\n",
       "      <td>2014-08-09T17:46:35Z</td>\n",
       "      <td>950</td>\n",
       "      <td>14</td>\n",
       "      <td>BJ</td>\n",
       "      <td>Services</td>\n",
       "      <td>NaN</td>\n",
       "      <td>NaN</td>\n",
       "    </tr>\n",
       "    <tr>\n",
       "      <th>3</th>\n",
       "      <td>743121</td>\n",
       "      <td>825</td>\n",
       "      <td>28</td>\n",
       "      <td>funded</td>\n",
       "      <td>2014-08-24T17:00:38Z</td>\n",
       "      <td>825</td>\n",
       "      <td>14</td>\n",
       "      <td>BJ</td>\n",
       "      <td>Retail</td>\n",
       "      <td>NaN</td>\n",
       "      <td>NaN</td>\n",
       "    </tr>\n",
       "    <tr>\n",
       "      <th>4</th>\n",
       "      <td>743124</td>\n",
       "      <td>725</td>\n",
       "      <td>21</td>\n",
       "      <td>funded</td>\n",
       "      <td>2014-08-25T03:24:54Z</td>\n",
       "      <td>725</td>\n",
       "      <td>13</td>\n",
       "      <td>BJ</td>\n",
       "      <td>Retail</td>\n",
       "      <td>NaN</td>\n",
       "      <td>NaN</td>\n",
       "    </tr>\n",
       "    <tr>\n",
       "      <th>...</th>\n",
       "      <td>...</td>\n",
       "      <td>...</td>\n",
       "      <td>...</td>\n",
       "      <td>...</td>\n",
       "      <td>...</td>\n",
       "      <td>...</td>\n",
       "      <td>...</td>\n",
       "      <td>...</td>\n",
       "      <td>...</td>\n",
       "      <td>...</td>\n",
       "      <td>...</td>\n",
       "    </tr>\n",
       "    <tr>\n",
       "      <th>6014</th>\n",
       "      <td>1568871</td>\n",
       "      <td>200</td>\n",
       "      <td>8</td>\n",
       "      <td>funded</td>\n",
       "      <td>2018-07-19T15:14:35Z</td>\n",
       "      <td>200</td>\n",
       "      <td>14</td>\n",
       "      <td>ZW</td>\n",
       "      <td>Food</td>\n",
       "      <td>Sethukelo is a 19-year-old entrepreneur who li...</td>\n",
       "      <td>to purchase goods for starting a grocery store.</td>\n",
       "    </tr>\n",
       "    <tr>\n",
       "      <th>6015</th>\n",
       "      <td>1568880</td>\n",
       "      <td>200</td>\n",
       "      <td>8</td>\n",
       "      <td>funded</td>\n",
       "      <td>2018-07-19T19:22:43Z</td>\n",
       "      <td>200</td>\n",
       "      <td>14</td>\n",
       "      <td>ZW</td>\n",
       "      <td>Food</td>\n",
       "      <td>Hlanjiwe is a 20-year-old entrepreneur who liv...</td>\n",
       "      <td>to buy grocery goods for her business.</td>\n",
       "    </tr>\n",
       "    <tr>\n",
       "      <th>6016</th>\n",
       "      <td>1568883</td>\n",
       "      <td>200</td>\n",
       "      <td>6</td>\n",
       "      <td>funded</td>\n",
       "      <td>2018-07-19T20:18:53Z</td>\n",
       "      <td>200</td>\n",
       "      <td>14</td>\n",
       "      <td>ZW</td>\n",
       "      <td>Clothing</td>\n",
       "      <td>Lebuhani is a 21-year-old entrepreneur who liv...</td>\n",
       "      <td>to buy clothes for her business.</td>\n",
       "    </tr>\n",
       "    <tr>\n",
       "      <th>6017</th>\n",
       "      <td>1568887</td>\n",
       "      <td>200</td>\n",
       "      <td>8</td>\n",
       "      <td>funded</td>\n",
       "      <td>2018-07-18T23:38:44Z</td>\n",
       "      <td>200</td>\n",
       "      <td>14</td>\n",
       "      <td>ZW</td>\n",
       "      <td>Food</td>\n",
       "      <td>Jacqueline is a 23-year-old entrepreneur who l...</td>\n",
       "      <td>her to buy goods to sell in her store.</td>\n",
       "    </tr>\n",
       "    <tr>\n",
       "      <th>6018</th>\n",
       "      <td>1568890</td>\n",
       "      <td>200</td>\n",
       "      <td>8</td>\n",
       "      <td>funded</td>\n",
       "      <td>2018-07-19T16:54:18Z</td>\n",
       "      <td>200</td>\n",
       "      <td>14</td>\n",
       "      <td>ZW</td>\n",
       "      <td>Food</td>\n",
       "      <td>Delligent is a 23-year-old entrepreneur who li...</td>\n",
       "      <td>to buy grocery goods for her business.</td>\n",
       "    </tr>\n",
       "  </tbody>\n",
       "</table>\n",
       "<p>6019 rows × 11 columns</p>\n",
       "</div>"
      ],
      "text/plain": [
       "      id_number  loan_amount  lender_count  status           funded_date  \\\n",
       "0        736066         4825            60  funded  2014-08-03T17:51:50Z   \n",
       "1        743090          975            34  funded  2014-08-18T09:10:54Z   \n",
       "2        743120          950            25  funded  2014-08-09T17:46:35Z   \n",
       "3        743121          825            28  funded  2014-08-24T17:00:38Z   \n",
       "4        743124          725            21  funded  2014-08-25T03:24:54Z   \n",
       "...         ...          ...           ...     ...                   ...   \n",
       "6014    1568871          200             8  funded  2018-07-19T15:14:35Z   \n",
       "6015    1568880          200             8  funded  2018-07-19T19:22:43Z   \n",
       "6016    1568883          200             6  funded  2018-07-19T20:18:53Z   \n",
       "6017    1568887          200             8  funded  2018-07-18T23:38:44Z   \n",
       "6018    1568890          200             8  funded  2018-07-19T16:54:18Z   \n",
       "\n",
       "      funded_amount  repayment_term location_country_code    sector  \\\n",
       "0              4825               8                    BJ    Retail   \n",
       "1               975              12                    BJ      Food   \n",
       "2               950              14                    BJ  Services   \n",
       "3               825              14                    BJ    Retail   \n",
       "4               725              13                    BJ    Retail   \n",
       "...             ...             ...                   ...       ...   \n",
       "6014            200              14                    ZW      Food   \n",
       "6015            200              14                    ZW      Food   \n",
       "6016            200              14                    ZW  Clothing   \n",
       "6017            200              14                    ZW      Food   \n",
       "6018            200              14                    ZW      Food   \n",
       "\n",
       "                                            description  \\\n",
       "0                                                   NaN   \n",
       "1                                                   NaN   \n",
       "2                                                   NaN   \n",
       "3                                                   NaN   \n",
       "4                                                   NaN   \n",
       "...                                                 ...   \n",
       "6014  Sethukelo is a 19-year-old entrepreneur who li...   \n",
       "6015  Hlanjiwe is a 20-year-old entrepreneur who liv...   \n",
       "6016  Lebuhani is a 21-year-old entrepreneur who liv...   \n",
       "6017  Jacqueline is a 23-year-old entrepreneur who l...   \n",
       "6018  Delligent is a 23-year-old entrepreneur who li...   \n",
       "\n",
       "                                                  use  \n",
       "0                                                 NaN  \n",
       "1                                                 NaN  \n",
       "2                                                 NaN  \n",
       "3                                                 NaN  \n",
       "4                                                 NaN  \n",
       "...                                               ...  \n",
       "6014  to purchase goods for starting a grocery store.  \n",
       "6015           to buy grocery goods for her business.  \n",
       "6016                 to buy clothes for her business.  \n",
       "6017           her to buy goods to sell in her store.  \n",
       "6018           to buy grocery goods for her business.  \n",
       "\n",
       "[6019 rows x 11 columns]"
      ]
     },
     "execution_count": 2,
     "metadata": {},
     "output_type": "execute_result"
    }
   ],
   "source": [
    "loans_data = pd.read_csv(r'C:\\Users\\user\\Downloads\\loans.csv')\n",
    "loans_data"
   ]
  },
  {
   "cell_type": "code",
   "execution_count": 3,
   "id": "6d8864b6",
   "metadata": {},
   "outputs": [
    {
     "name": "stdout",
     "output_type": "stream",
     "text": [
      "<class 'pandas.core.frame.DataFrame'>\n",
      "RangeIndex: 6019 entries, 0 to 6018\n",
      "Data columns (total 11 columns):\n",
      " #   Column                 Non-Null Count  Dtype \n",
      "---  ------                 --------------  ----- \n",
      " 0   id_number              6019 non-null   int64 \n",
      " 1   loan_amount            6019 non-null   int64 \n",
      " 2   lender_count           6019 non-null   int64 \n",
      " 3   status                 6019 non-null   object\n",
      " 4   funded_date            5082 non-null   object\n",
      " 5   funded_amount          6019 non-null   int64 \n",
      " 6   repayment_term         6019 non-null   int64 \n",
      " 7   location_country_code  6002 non-null   object\n",
      " 8   sector                 6019 non-null   object\n",
      " 9   description            5677 non-null   object\n",
      " 10  use                    5677 non-null   object\n",
      "dtypes: int64(5), object(6)\n",
      "memory usage: 517.4+ KB\n"
     ]
    }
   ],
   "source": [
    "loans_data.info()"
   ]
  },
  {
   "cell_type": "markdown",
   "id": "c5a597b8",
   "metadata": {},
   "source": [
    "to start visualizing our data, we create a scatter plot to see if there's correlation between the repayment term and loan amount"
   ]
  },
  {
   "cell_type": "code",
   "execution_count": 4,
   "id": "37f6649c",
   "metadata": {},
   "outputs": [
    {
     "data": {
      "image/png": "[encoded data removed]",
      "text/plain": [
       "<Figure size 432x288 with 1 Axes>"
      ]
     },
     "metadata": {
      "needs_background": "light"
     },
     "output_type": "display_data"
    }
   ],
   "source": [
    "plt.scatter(x = loans_data['repayment_term'], y = loans_data['loan_amount'])\n",
    "plt.xlabel('repayment term')\n",
    "plt.ylabel('Loan Amount')\n",
    "plt.show()"
   ]
  },
  {
   "cell_type": "markdown",
   "id": "630e29e9",
   "metadata": {},
   "source": [
    "this graph doesn't quite tell us if there is a relationship between the two parameter."
   ]
  },
  {
   "cell_type": "markdown",
   "id": "8fda271f",
   "metadata": {},
   "source": [
    "We can also check the distribution of our data by using a histogram"
   ]
  },
  {
   "cell_type": "code",
   "execution_count": 6,
   "id": "cba69f09",
   "metadata": {},
   "outputs": [
    {
     "data": {
      "text/plain": [
       "<function matplotlib.pyplot.show(close=None, block=None)>"
      ]
     },
     "execution_count": 6,
     "metadata": {},
     "output_type": "execute_result"
    },
    {
     "data": {
      "image/png": "[encoded data removed]",
      "text/plain": [
       "<Figure size 432x288 with 1 Axes>"
      ]
     },
     "metadata": {
      "needs_background": "light"
     },
     "output_type": "display_data"
    }
   ],
   "source": [
    "plt.hist(loans_data['loan_amount'], color ='orange')\n",
    "plt.show"
   ]
  },
  {
   "cell_type": "markdown",
   "id": "0a326ce5",
   "metadata": {},
   "source": [
    "from this histogram we can tell that more loan amount less than 10000 was collected"
   ]
  },
  {
   "cell_type": "raw",
   "id": "ed4751df",
   "metadata": {},
   "source": [
    "From the data given, we can see that loans were given out for different sector. we may want to know the sector with the highest loan amount"
   ]
  },
  {
   "cell_type": "code",
   "execution_count": 8,
   "id": "82994e64",
   "metadata": {},
   "outputs": [
    {
     "data": {
      "image/png": "[encoded data removed]",
      "text/plain": [
       "<Figure size 432x288 with 1 Axes>"
      ]
     },
     "metadata": {
      "needs_background": "light"
     },
     "output_type": "display_data"
    }
   ],
   "source": [
    "AD = loans_data.groupby('sector')['loan_amount'].sum().sort_values(ascending = False)\n",
    "AD\n",
    "plt.bar(x = AD.index, height = AD.values)\n",
    "plt.xlabel('Sector')\n",
    "plt.ylabel('Loan Amount')\n",
    "plt.title('Total loan amount by sector')\n",
    "plt.xticks(rotation = 90)\n",
    "plt.show()"
   ]
  },
  {
   "cell_type": "markdown",
   "id": "bda07a13",
   "metadata": {},
   "source": [
    "From this barchat we can see that the food sector took more loan than the other sector"
   ]
  },
  {
   "cell_type": "markdown",
   "id": "b4073a84",
   "metadata": {},
   "source": [
    "let us plot another barchat that shows the average loan amount for each sector"
   ]
  },
  {
   "cell_type": "code",
   "execution_count": 11,
   "id": "34ab5e40",
   "metadata": {},
   "outputs": [
    {
     "data": {
      "image/png": "[encoded data removed]",
      "text/plain": [
       "<Figure size 432x288 with 1 Axes>"
      ]
     },
     "metadata": {
      "needs_background": "light"
     },
     "output_type": "display_data"
    }
   ],
   "source": [
    "AS = loans_data.groupby('sector')['loan_amount'].mean().sort_values(ascending = False)\n",
    "AS\n",
    "plt.bar(x = AS.index, height = AS.values)\n",
    "plt.xlabel('Sector')\n",
    "plt.ylabel('Loan Amount')\n",
    "plt.title('Total loan amount by sector')\n",
    "plt.xticks(rotation = 90)\n",
    "plt.show()"
   ]
  },
  {
   "cell_type": "markdown",
   "id": "f393a5da",
   "metadata": {},
   "source": [
    "look at this! How is the sector with the highest average loan amount health when the sector with the highest total loan is food? what does this tell us? let us plot a boxplot of the loan amoount of the health sector to get more insight"
   ]
  },
  {
   "cell_type": "code",
   "execution_count": 12,
   "id": "3c344cfe",
   "metadata": {},
   "outputs": [
    {
     "data": {
      "text/plain": [
       "Text(0, 0.5, 'Loan amount')"
      ]
     },
     "execution_count": 12,
     "metadata": {},
     "output_type": "execute_result"
    },
    {
     "data": {
      "image/png": "[encoded data removed]",
      "text/plain": [
       "<Figure size 432x288 with 1 Axes>"
      ]
     },
     "metadata": {
      "needs_background": "light"
     },
     "output_type": "display_data"
    }
   ],
   "source": [
    "sector = 'Health'\n",
    "df_sector = loans_data[loans_data.sector == sector]\n",
    "df_amount = df_sector.loan_amount\n",
    "plt.boxplot(df_amount, vert = False)\n",
    "plt.title('Loan amount for retail')\n",
    "plt.ylabel('Loan amount')"
   ]
  },
  {
   "cell_type": "markdown",
   "id": "01e37814",
   "metadata": {},
   "source": [
    "YES! this boxplot is showing us that they are outliers in the loan amounts of the health sector. This is the reason for the spike of the average loan of the sector"
   ]
  }
 ],
 "metadata": {
  "kernelspec": {
   "display_name": "Python 3 (ipykernel)",
   "language": "python",
   "name": "python3"
  },
  "language_info": {
   "codemirror_mode": {
    "name": "ipython",
    "version": 3
   },
   "file_extension": ".py",
   "mimetype": "text/x-python",
   "name": "python",
   "nbconvert_exporter": "python",
   "pygments_lexer": "ipython3",
   "version": "3.9.12"
  }
 },
 "nbformat": 4,
 "nbformat_minor": 5
}
